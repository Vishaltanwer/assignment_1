{
  "nbformat": 4,
  "nbformat_minor": 0,
  "metadata": {
    "colab": {
      "provenance": [],
      "authorship_tag": "ABX9TyNL0PiuPp9X/BLd8iwuIGiz",
      "include_colab_link": true
    },
    "kernelspec": {
      "name": "python3",
      "display_name": "Python 3"
    },
    "language_info": {
      "name": "python"
    }
  },
  "cells": [
    {
      "cell_type": "markdown",
      "metadata": {
        "id": "view-in-github",
        "colab_type": "text"
      },
      "source": [
        "<a href=\"https://colab.research.google.com/github/PriyanshuK2/Assignment-01-Python-Assignment/blob/main/Assignment-01.ipynb\" target=\"_parent\"><img src=\"https://colab.research.google.com/assets/colab-badge.svg\" alt=\"Open In Colab\"/></a>"
      ]
    },
    {
      "cell_type": "code",
      "source": [
        "L= [11, 12, 13, 14]\n",
        "#(i) To add 50 and 60 to L:\n",
        "L.append(50)\n",
        "L.append(60)\n",
        "#(ii) To remove 11 and 13 from L:\n",
        "L.remove(11)\n",
        "L.remove(13)\n",
        "#(iii) To sort L in ascending order:\n",
        "L.sort()\n",
        "#(iv) To sort L in descending order:\n",
        "L.sort(reverse=True)\n",
        "#(v) To search for 13 in L:\n",
        "if 13 in L:\n",
        "    print(\"13 is present in L\")\n",
        "else:\n",
        "    print(\"13 is not present in L\")\n",
        "#(vi) To count the number of elements present in L:\n",
        "len(L)\n",
        "#(vii) To sum all the elements in L:\n",
        "sum(L)\n",
        "#(viii) To sum all ODD numbers in L:\n",
        "sum([x for x in L if x % 2 == 1])\n",
        "#(ix) To sum all EVEN numbers in L:\n",
        "sum([x for x in L if x % 2 == 0])\n",
        "#(x) To sum all PRIME numbers in L:\n",
        "def is_prime(n):\n",
        "    if n <= 1:\n",
        "        return False\n",
        "    for i in range(2, n):\n",
        "        if n % i == 0:\n",
        "            return False\n",
        "    return True\n",
        "sum([x for x in L if is_prime(x)])\n",
        "#(xi) To clear all the elements in L:\n",
        "L.clear()\n",
        "#(xii) To delete L:\n",
        "del L"
      ],
      "metadata": {
        "colab": {
          "base_uri": "https://localhost:8080/"
        },
        "id": "h3Xxno080yYK",
        "outputId": "a308bb4a-0d4f-4ffb-f73f-9e277b5910b1"
      },
      "execution_count": 2,
      "outputs": [
        {
          "output_type": "stream",
          "name": "stdout",
          "text": [
            "13 is not present in L\n"
          ]
        }
      ]
    },
    {
      "cell_type": "code",
      "source": [
        "#Q2. D is a dictionary defined as D= {1:5.6, 2:7.8, 3:6.6, 4:8.7, 5:7.7}.\n",
        "#(i) To add new entry in D; key=8 and value is 8.8:\n",
        "D= {1:5.6, 2:7.8, 3:6.6, 4:8.7, 5:7.7}\n",
        "D[8] = 8.8\n",
        "#(ii) To remove key=2:\n",
        "del D[2]\n",
        "#(iii) To check whether key=6 is present in D:\n",
        "if 6 in D.keys():\n",
        "    print(\"Key=6 is present in D\")\n",
        "else:\n",
        "    print(\"Key=6 is not present in D\")\n",
        "#(iv) To count the number of elements present in D:\n",
        "len(D)\n",
        "#(v) To add all the values present D:\n",
        "sum(D.values())\n",
        "#(vi) To update the value of key=3 to 7.1:\n",
        "D[3] = 7.1\n",
        "#(vii) To clear the dictionary:\n",
        "D.clear()"
      ],
      "metadata": {
        "colab": {
          "base_uri": "https://localhost:8080/"
        },
        "id": "EZ1lWHEE0_R4",
        "outputId": "718d35d9-5ae3-4585-8afc-0904baaef068"
      },
      "execution_count": 3,
      "outputs": [
        {
          "output_type": "stream",
          "name": "stdout",
          "text": [
            "Key=6 is not present in D\n"
          ]
        }
      ]
    },
    {
      "cell_type": "code",
      "source": [
        "#Q3. S1 is a set defined as S1= {10, 20, 30, 40, 50, 60}. S2 is a set defined as S2= {40, 50, 60, 70, 80, 90}.\n",
        "S1= {10, 20, 30, 40, 50, 60}\n",
        "S2= {40, 50, 60, 70, 80, 90}\n",
        "#(i) To add 55 and 66 to Set S1:\n",
        "S1.add(55)\n",
        "S1.add(66)\n",
        "#(ii) To remove 10 and 30 from Set S1:\n",
        "S1.remove(10)\n",
        "S1.remove(30)\n",
        "\n",
        "#(iii) To check whether element=40 is present in S1:\n",
        "if 40 in S1:\n",
        "    print(\"Element=40 is present in S1\")\n",
        "else:\n",
        "    print(\"Element=40 is not present in S1\")\n",
        "#(iv) To find the union between S1 and S2:\n",
        "S1.union(S2)\n",
        "\n",
        "#(v) To find the intersection between S1 and S2:\n",
        "S1.intersection(S2)\n",
        "\n",
        "#(vi) To find the difference between S1 and S2 (S1 - S2):\n",
        "S1.difference(S2)\n"
      ],
      "metadata": {
        "colab": {
          "base_uri": "https://localhost:8080/"
        },
        "id": "0Z2haT_T1C-0",
        "outputId": "cf6edfd5-c7f9-4bcf-dcd7-c6250b838640"
      },
      "execution_count": 4,
      "outputs": [
        {
          "output_type": "stream",
          "name": "stdout",
          "text": [
            "Element=40 is present in S1\n"
          ]
        },
        {
          "output_type": "execute_result",
          "data": {
            "text/plain": [
              "{20, 55, 66}"
            ]
          },
          "metadata": {},
          "execution_count": 4
        }
      ]
    },
    {
      "cell_type": "code",
      "source": [
        "#Q4.\n",
        "#(i) WAP to print 100 random strings whose length between 6 and 8.\n",
        "import random\n",
        "import string\n",
        "for i in range(100):\n",
        "    length = random.randint(6,8)\n",
        "    result = ''.join(random.choices(string.ascii_letters + string.digits, k=length))\n",
        "    print(result)\n",
        "#(ii) WAP to print all prime numbers between 600 and 800.\n",
        "def is_prime(n):\n",
        "    if n <= 1:\n",
        "        return False\n",
        "    for i in range(2,n):\n",
        "        if n % i == 0:\n",
        "            return False\n",
        "    return True\n",
        "for i in range(600, 801):\n",
        "    if is_prime(i):\n",
        "        print(i)\n",
        "#(iii) WAP to print all numbers between 100 and 1000 that are divisible by 7 and 9.\n",
        "for i in range(100, 1001):\n",
        "    if i % 7 == 0 and i % 9 == 0:\n",
        "        print(i)"
      ],
      "metadata": {
        "colab": {
          "base_uri": "https://localhost:8080/"
        },
        "id": "oFylta0T1fw9",
        "outputId": "e6fd3a8b-9607-46f5-bee6-166ef88d0fd3"
      },
      "execution_count": 5,
      "outputs": [
        {
          "output_type": "stream",
          "name": "stdout",
          "text": [
            "tYM3B4e9\n",
            "nStQAM1F\n",
            "GuUAzYhw\n",
            "0vZiCz2\n",
            "heEhSx8\n",
            "S2yaDaVB\n",
            "pmKpRR\n",
            "WYitwwU\n",
            "OXcKU42\n",
            "1fjdUP\n",
            "F1nYdEpx\n",
            "0ZJ8XWW5\n",
            "DNsaFfm\n",
            "JZnWhzX7\n",
            "wOKkYxnZ\n",
            "gly22N\n",
            "ccbTsq\n",
            "bsDisC\n",
            "oyJQEbBR\n",
            "plQp45H\n",
            "D3iUVL9\n",
            "Sc1p9haE\n",
            "f9Kqht\n",
            "HHwBPwxb\n",
            "mTocAEXe\n",
            "yS5dRu\n",
            "7mSpzSi\n",
            "JnnBdLn8\n",
            "enPgSM9y\n",
            "NKMxOpiR\n",
            "xFsNg6\n",
            "7HLbeXx\n",
            "u5hI8Q\n",
            "dvWZAaA\n",
            "TCQJIR1\n",
            "U4baeOaH\n",
            "FNRBD9P\n",
            "ozMluRj\n",
            "vYrPehbI\n",
            "Pk2gBB\n",
            "2AyYSyX3\n",
            "TA4oIjN\n",
            "WLUDkj2\n",
            "qzy7od\n",
            "04iIuU\n",
            "L8MdtB\n",
            "6PEE8N\n",
            "HcjRsH0f\n",
            "VNs2jJ7\n",
            "mfKo1d1\n",
            "R7sFtR\n",
            "DSGyAX\n",
            "Kdarnt\n",
            "nph7EJP\n",
            "hX4Nyrmu\n",
            "vEW7Da0\n",
            "pv4B80B\n",
            "NlEWZXJa\n",
            "MDfu5WS\n",
            "x9YPV5V\n",
            "hfaJqp\n",
            "AiJgdCUX\n",
            "tD0cptI\n",
            "oKLLKJDt\n",
            "95URoFB\n",
            "jJOLm1th\n",
            "EpUEws\n",
            "0OF4wYB\n",
            "05JukJ\n",
            "76bCMSdN\n",
            "n7Qu14Iw\n",
            "OtrJUit\n",
            "69j44bA\n",
            "ySnMoY9i\n",
            "HLpmGQYs\n",
            "1vE4o4\n",
            "I5iv8E\n",
            "HiavOY0X\n",
            "xQzs4t\n",
            "tJjWPg\n",
            "FKdhzLSg\n",
            "02H6MZRw\n",
            "sBHCra\n",
            "VIJVHO2\n",
            "OVuDQ8\n",
            "kdddpMM\n",
            "WXWfpQR\n",
            "cpFYaL\n",
            "onmFSe\n",
            "5Y7B2O\n",
            "6utgL1Cd\n",
            "EXpT1O0X\n",
            "w1rUwKy\n",
            "HpSAUN\n",
            "jxQJDId3\n",
            "vIE8FkQj\n",
            "yCkHHcd2\n",
            "GUBbNE99\n",
            "9ZEZB2a6\n",
            "nFGmkUG2\n",
            "601\n",
            "607\n",
            "613\n",
            "617\n",
            "619\n",
            "631\n",
            "641\n",
            "643\n",
            "647\n",
            "653\n",
            "659\n",
            "661\n",
            "673\n",
            "677\n",
            "683\n",
            "691\n",
            "701\n",
            "709\n",
            "719\n",
            "727\n",
            "733\n",
            "739\n",
            "743\n",
            "751\n",
            "757\n",
            "761\n",
            "769\n",
            "773\n",
            "787\n",
            "797\n",
            "126\n",
            "189\n",
            "252\n",
            "315\n",
            "378\n",
            "441\n",
            "504\n",
            "567\n",
            "630\n",
            "693\n",
            "756\n",
            "819\n",
            "882\n",
            "945\n"
          ]
        }
      ]
    },
    {
      "cell_type": "code",
      "source": [
        "#Q5. WAP to create two lists of 10 random numbers between 10 and 30; Find\n",
        "import random\n",
        "\n",
        "list1 = [random.randint(10,30) for _ in range(10)]\n",
        "list2 = [random.randint(10,30) for _ in range(10)]\n",
        "\n",
        "# (i) Common numbers in the two lists\n",
        "common = list(set(list1).intersection(list2))\n",
        "print(\"Common numbers:\", common)\n",
        "\n",
        "# (ii) Unique numbers in both the list\n",
        "unique1 = list(set(list1).difference(list2))\n",
        "unique2 = list(set(list2).difference(list1))\n",
        "print(\"Unique numbers in list1:\", unique1)\n",
        "print(\"Unique numbers in list2:\", unique2)\n",
        "\n",
        "# (iii) Minimum in both the list\n",
        "min1 = min(list1)\n",
        "min2 = min(list2)\n",
        "print(\"Minimum in list1:\", min1)\n",
        "print(\"Minimum in list2:\", min2)\n",
        "\n",
        "# (iv) Maximum in both the list\n",
        "max1 = max(list1)\n",
        "max2 = max(list2)\n",
        "print(\"Maximum in list1:\", max1)\n",
        "print(\"Maximum in list2:\", max2)\n",
        "\n",
        "# (v) Sum of both the lists\n",
        "sum1 = sum(list1)\n",
        "sum2 = sum(list2)\n",
        "print(\"Sum of list1:\", sum1)\n",
        "print(\"Sum of list2:\", sum2)"
      ],
      "metadata": {
        "colab": {
          "base_uri": "https://localhost:8080/"
        },
        "id": "8XciWErG1wH9",
        "outputId": "c4be3386-396d-41a3-ac06-2e45bcbdf00c"
      },
      "execution_count": 6,
      "outputs": [
        {
          "output_type": "stream",
          "name": "stdout",
          "text": [
            "Common numbers: [16, 10, 15]\n",
            "Unique numbers in list1: [18, 19, 11, 12]\n",
            "Unique numbers in list2: [20, 22, 25, 26, 30]\n",
            "Minimum in list1: 10\n",
            "Minimum in list2: 10\n",
            "Maximum in list1: 19\n",
            "Maximum in list2: 30\n",
            "Sum of list1: 142\n",
            "Sum of list2: 210\n"
          ]
        }
      ]
    },
    {
      "cell_type": "code",
      "source": [
        "#Q6. WAP to create a list of 100 random numbers between 100 and 900. Count and print the:\n",
        "import random\n",
        "\n",
        "L = [random.randint(100,900) for _ in range(100)]\n",
        "\n",
        "# (i) All odd numbers\n",
        "odd_count = len([x for x in L if x % 2 == 1])\n",
        "print(\"Number of odd numbers:\", odd_count)\n",
        "\n",
        "# (ii) All even numbers\n",
        "even_count = len([x for x in L if x % 2 == 0])\n",
        "print(\"Number of even numbers:\", even_count)\n",
        "\n",
        "# (iii) All prime numbers\n",
        "def is_prime(n):\n",
        "    if n <= 1:\n",
        "        return False\n",
        "    for i in range(2,n):\n",
        "        if n % i == 0:\n",
        "            return False\n",
        "    return True\n",
        "\n",
        "prime_count = len([x for x in L if is_prime(x)])\n",
        "print(\"Number of prime numbers:\", prime_count)"
      ],
      "metadata": {
        "colab": {
          "base_uri": "https://localhost:8080/"
        },
        "id": "sTkTr-Uj1-kG",
        "outputId": "9710d3ae-1d8c-4b5b-ceb3-6872ecabdeee"
      },
      "execution_count": 7,
      "outputs": [
        {
          "output_type": "stream",
          "name": "stdout",
          "text": [
            "Number of odd numbers: 38\n",
            "Number of even numbers: 62\n",
            "Number of prime numbers: 11\n"
          ]
        }
      ]
    },
    {
      "cell_type": "code",
      "source": [
        "#Q7. D is a dictionary defined as D={1:\"One\",2:\"Two\",3:\"Three\",4:\"Four\",5:\"Five\"}. WAP to read all the keys and values from dictionary and write to the file in the given below format.\n",
        "\n",
        "D={1:\"One\",2:\"Two\",3:\"Three\",4:\"Four\",5:\"Five\"}\n",
        "\n",
        "with open('output.txt', 'w') as f:\n",
        "    for key, value in D.items():\n",
        "        f.write(f\"{key}, {value}\\n\")"
      ],
      "metadata": {
        "id": "0TzkEwHF2IdP"
      },
      "execution_count": 8,
      "outputs": []
    },
    {
      "cell_type": "code",
      "source": [
        "#Q8. L is a list defined as L=[\"One\",\"Two\",\"Three\",\"Four\",\"Five\"]. WAP to count the length of each element from a list and write to the file in the given below format:\n",
        "L=[\"One\",\"Two\",\"Three\",\"Four\",\"Five\"]\n",
        "\n",
        "with open('output.txt', 'w') as f:\n",
        "    for element in L:\n",
        "        f.write(f\"{element}, {len(element)}\\n\")"
      ],
      "metadata": {
        "id": "6xgOaFyq2YaO"
      },
      "execution_count": 9,
      "outputs": []
    },
    {
      "cell_type": "code",
      "source": [
        "#Q9. Write to the file 100 random strings whose length between 10 and 15.\n",
        "\n",
        "import random\n",
        "import string\n",
        "\n",
        "with open('output.txt', 'w') as f:\n",
        "    for i in range(100):\n",
        "        length = random.randint(10,15)\n",
        "        result = ''.join(random.choices(string.ascii_letters + string.digits, k=length))\n",
        "        f.write(result + '\\n')"
      ],
      "metadata": {
        "id": "wLC8QxqZ3DAu"
      },
      "execution_count": 10,
      "outputs": []
    },
    {
      "cell_type": "code",
      "source": [
        "#Q10. Write to the file all prime numbers between 600 and 800.\n",
        "\n",
        "def is_prime(n):\n",
        "    if n <= 1:\n",
        "        return False\n",
        "    for i in range(2,n):\n",
        "        if n % i == 0:\n",
        "            return False\n",
        "    return True\n",
        "\n",
        "with open('output.txt', 'w') as f:\n",
        "    for i in range(600,801):\n",
        "        if is_prime(i):\n",
        "            f.write(str(i) + '\\n')"
      ],
      "metadata": {
        "id": "jj5YR3SU3DJ8"
      },
      "execution_count": 11,
      "outputs": []
    },
    {
      "cell_type": "code",
      "source": [
        "#Q11. WAP to calculate the time taken by a program.\n",
        "import time\n",
        "\n",
        "start_time = time.time()\n",
        "\n",
        "#Program\n",
        "#WAP to print 100 random strings whose length between 6 and 8.\n",
        "import random\n",
        "import string\n",
        "for i in range(100):\n",
        "    length = random.randint(6,8)\n",
        "    result = ''.join(random.choices(string.ascii_letters + string.digits, k=length))\n",
        "\n",
        "end_time = time.time()\n",
        "elapsed_time = end_time   -  start_time\n",
        "print(elapsed_time)"
      ],
      "metadata": {
        "colab": {
          "base_uri": "https://localhost:8080/"
        },
        "id": "-vO3F01L3DQY",
        "outputId": "31401dbc-f6d2-490c-ebcd-8d4713cfbc3e"
      },
      "execution_count": 14,
      "outputs": [
        {
          "output_type": "stream",
          "name": "stdout",
          "text": [
            "0.0003795623779296875\n"
          ]
        }
      ]
    },
    {
      "cell_type": "code",
      "source": [
        "import time\n",
        "import matplotlib.pyplot as plt\n",
        "\n",
        "def sort_list(num_elements):\n",
        "    # Generate a list of random numbers\n",
        "    my_list = list(range(num_elements))\n",
        "\n",
        "    # Measure the time taken to sort the list\n",
        "    start_time = time.time()\n",
        "    my_list.sort()\n",
        "    end_time = time.time()\n",
        "\n",
        "    # Return the time taken for sorting\n",
        "    return end_time - start_time\n",
        "\n",
        "# Define the number of elements in the list\n",
        "num_elements = [5000, 10000, 15000, 20000, 25000]\n",
        "\n",
        "# Measure the time taken for sorting each list size\n",
        "time_taken = []\n",
        "for n in num_elements:\n",
        "    t = sort_list(n)\n",
        "    time_taken.append(t)\n",
        "\n",
        "# Plotting the graph\n",
        "plt.plot(num_elements, time_taken, marker='o')\n",
        "plt.xlabel('Number of Elements')\n",
        "plt.ylabel('Time Taken (seconds)')\n",
        "plt.title('Time Taken for Sorting Lists of Different Sizes')\n",
        "plt.grid(True)\n",
        "plt.show()"
      ],
      "metadata": {
        "colab": {
          "base_uri": "https://localhost:8080/",
          "height": 472
        },
        "id": "EtvRwHDv3DS_",
        "outputId": "e977c0e5-6cff-4b95-e4b1-257c9158a2be"
      },
      "execution_count": 17,
      "outputs": [
        {
          "output_type": "display_data",
          "data": {
            "text/plain": [
              "<Figure size 640x480 with 1 Axes>"
            ],
            "image/png": "[encoded data removed]"
          },
          "metadata": {}
        }
      ]
    },
    {
      "cell_type": "code",
      "source": [
        "#Q13 Create a dictionary of student marks\n",
        "student_marks = {\n",
        "    'Ram': [80, 75, 90, 85, 95],\n",
        "    'Aditya': [70, 82, 88, 76, 90],\n",
        "    'Shivam': [95, 88, 92, 78, 85],\n",
        "    'Ravi': [84, 90, 76, 92, 88],\n",
        "    'Rahul': [92, 84, 86, 90, 78]\n",
        "}\n",
        "\n",
        "# Calculate average marks for each student\n",
        "average_marks = {student: sum(marks) / len(marks) for student, marks in student_marks.items()}\n",
        "\n",
        "# Find the student with maximum average marks\n",
        "max_student = max(average_marks, key=average_marks.get)\n",
        "max_average = average_marks[max_student]\n",
        "\n",
        "# Find the student with minimum average marks\n",
        "min_student = min(average_marks, key=average_marks.get)\n",
        "min_average = average_marks[min_student]\n",
        "\n",
        "# Print the results\n",
        "print(f\"Student with maximum average marks: {max_student} ({max_average:.2f})\")\n",
        "print(f\"Student with minimum average marks: {min_student} ({min_average:.2f})\")"
      ],
      "metadata": {
        "colab": {
          "base_uri": "https://localhost:8080/"
        },
        "id": "bAdCT1rx3DXU",
        "outputId": "623aecc1-3ba9-4dc1-9ac4-da3f21d4ab38"
      },
      "execution_count": 16,
      "outputs": [
        {
          "output_type": "stream",
          "name": "stdout",
          "text": [
            "Student with maximum average marks: Shivam (87.60)\n",
            "Student with minimum average marks: Aditya (81.20)\n"
          ]
        }
      ]
    }
  ]
}
